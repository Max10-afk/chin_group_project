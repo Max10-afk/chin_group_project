{
 "cells": [
  {
   "cell_type": "code",
   "execution_count": 1,
   "metadata": {},
   "outputs": [],
   "source": [
    "from rdkit import Chem\n",
    "from rdkit.Chem import rdMolDescriptors\n",
    "import pandas as pd\n",
    "from rdkit.Chem import rdFingerprintGenerator\n",
    "from mordred import Calculator, descriptors\n",
    "import numpy as np"
   ]
  },
  {
   "cell_type": "code",
   "execution_count": 2,
   "metadata": {},
   "outputs": [],
   "source": [
    "data = Chem.SDMolSupplier(\"data/chin-qspr-dataset.sdf\")"
   ]
  },
  {
   "cell_type": "code",
   "execution_count": 3,
   "metadata": {},
   "outputs": [
    {
     "data": {
      "text/plain": [
       "['pLC50', 'compound_id']"
      ]
     },
     "execution_count": 3,
     "metadata": {},
     "output_type": "execute_result"
    }
   ],
   "source": [
    "list(data[0].GetPropNames())"
   ]
  },
  {
   "cell_type": "markdown",
   "metadata": {},
   "source": [
    "RDKit descriptor generation - only ~40 available"
   ]
  },
  {
   "cell_type": "code",
   "execution_count": 43,
   "metadata": {},
   "outputs": [
    {
     "name": "stderr",
     "output_type": "stream",
     "text": [
      "[12:44:26] Warning: molecule is tagged as 3D, but all Z coords are zero\n"
     ]
    }
   ],
   "source": [
    "available_descriptors = list(rdMolDescriptors.Properties.GetAvailableProperties())\n",
    "get_descriptors = rdMolDescriptors.Properties(available_descriptors)\n",
    "data_descriptors = [list(get_descriptors.ComputeProperties(cur_molecule)) for cur_molecule in data]"
   ]
  },
  {
   "cell_type": "markdown",
   "metadata": {},
   "source": [
    "#### Filter out molecules duplicates"
   ]
  },
  {
   "cell_type": "code",
   "execution_count": 25,
   "metadata": {},
   "outputs": [
    {
     "name": "stderr",
     "output_type": "stream",
     "text": [
      "[12:39:26] Warning: molecule is tagged as 3D, but all Z coords are zero\n"
     ]
    }
   ],
   "source": [
    "cannonical_smiles = np.array([Chem.rdmolfiles.MolToSmiles(cur_mol) for cur_mol in data])"
   ]
  },
  {
   "cell_type": "code",
   "execution_count": 36,
   "metadata": {},
   "outputs": [],
   "source": [
    "smiles_counts = np.unique(cannonical_smiles, return_counts=True)\n",
    "duplicate_smiles = smiles_counts[0][np.where(smiles_counts[1] > 1)]"
   ]
  },
  {
   "cell_type": "code",
   "execution_count": 38,
   "metadata": {},
   "outputs": [],
   "source": [
    "rows_to_remove = np.where([cur_smiles in duplicate_smiles for cur_smiles in cannonical_smiles])"
   ]
  },
  {
   "cell_type": "markdown",
   "metadata": {},
   "source": [
    "#### Generate nice pd dataframe"
   ]
  },
  {
   "cell_type": "code",
   "execution_count": 44,
   "metadata": {},
   "outputs": [
    {
     "name": "stderr",
     "output_type": "stream",
     "text": [
      "[12:44:29] Warning: molecule is tagged as 3D, but all Z coords are zero\n",
      "[12:44:29] Warning: molecule is tagged as 3D, but all Z coords are zero\n"
     ]
    }
   ],
   "source": [
    "compound_ids = [cur_mol.GetProp(\"compound_id\") for cur_mol in data]\n",
    "compound_toxicity = [cur_mol.GetProp(\"pLC50\") for cur_mol in data]"
   ]
  },
  {
   "cell_type": "code",
   "execution_count": 50,
   "metadata": {},
   "outputs": [],
   "source": [
    "pd_data = pd.DataFrame(data = data_descriptors, columns=available_descriptors)\n",
    "pd_data.insert(0, \"compound_id\", compound_ids)\n",
    "pd_data.insert(pd_data.shape[1], \"compound_toxicity\", compound_toxicity)\n",
    "pd_data.drop(rows_to_remove[0], inplace=True)\n",
    "pd_data.to_csv(\"molecules_with_descriptors.csv\")"
   ]
  },
  {
   "cell_type": "markdown",
   "metadata": {},
   "source": [
    "Update to mordred - 1600+ descriptors"
   ]
  },
  {
   "cell_type": "code",
   "execution_count": 53,
   "metadata": {},
   "outputs": [
    {
     "name": "stderr",
     "output_type": "stream",
     "text": [
      " 33%|███▎      | 123/375 [00:04<00:06, 36.38it/s][13:34:50] Warning: molecule is tagged as 3D, but all Z coords are zero\n",
      " 77%|███████▋  | 290/375 [00:09<00:01, 45.79it/s]"
     ]
    },
    {
     "name": "stdout",
     "output_type": "stream",
     "text": [
      "c:\\Users\\serra\\anaconda3\\envs\\chin\\lib\\site-packages\\numpy\\core\\fromnumeric.py:88: RuntimeWarning: overflow encountered in reduce\n",
      "  return ufunc.reduce(obj, axis, dtype, out, **passkwargs)\n"
     ]
    },
    {
     "name": "stderr",
     "output_type": "stream",
     "text": [
      "100%|██████████| 375/375 [00:12<00:00, 31.13it/s]\n"
     ]
    },
    {
     "name": "stdout",
     "output_type": "stream",
     "text": [
      "(375, 1613)\n",
      "(375, 915)\n",
      "(375, 732)\n",
      "(366, 734)\n"
     ]
    }
   ],
   "source": [
    "calc = Calculator(descriptors, ignore_3D=True)\n",
    "df = calc.pandas(data)\n",
    "print(df.shape)\n",
    "# reduce to features without errors\n",
    "df = df.select_dtypes(include=\"number\")\n",
    "print(df.shape)\n",
    "# throw out columns with constant values\n",
    "df = df.loc[:,df.apply(pd.Series.nunique) != 1]\n",
    "print(df.shape)\n",
    "df.insert(0, \"compound_id\", compound_ids)\n",
    "df.insert(df.shape[1], \"compound_toxicity\", compound_toxicity)\n",
    "df.drop(rows_to_remove[0], inplace = True)\n",
    "print(df.shape)\n",
    "df.to_csv(\"molecules_descriptors_mordred.csv\")"
   ]
  },
  {
   "cell_type": "markdown",
   "metadata": {},
   "source": [
    "### Generating some fingerprint"
   ]
  },
  {
   "cell_type": "code",
   "execution_count": 55,
   "metadata": {},
   "outputs": [],
   "source": [
    "mfpgen = rdFingerprintGenerator.GetMorganGenerator(radius=5,fpSize=4096)"
   ]
  },
  {
   "cell_type": "code",
   "execution_count": 56,
   "metadata": {},
   "outputs": [
    {
     "name": "stderr",
     "output_type": "stream",
     "text": [
      "[13:35:53] Warning: molecule is tagged as 3D, but all Z coords are zero\n"
     ]
    }
   ],
   "source": [
    "mol_fp = [list(mfpgen.GetFingerprint(cur_mol)) for cur_mol in data]"
   ]
  },
  {
   "cell_type": "code",
   "execution_count": 57,
   "metadata": {},
   "outputs": [
    {
     "data": {
      "text/plain": [
       "106"
      ]
     },
     "execution_count": 57,
     "metadata": {},
     "output_type": "execute_result"
    }
   ],
   "source": [
    "max([sum(cur_fp) for cur_fp in mol_fp])"
   ]
  },
  {
   "cell_type": "code",
   "execution_count": 58,
   "metadata": {},
   "outputs": [],
   "source": [
    "fp_dataframe = pd.DataFrame(mol_fp)"
   ]
  },
  {
   "cell_type": "code",
   "execution_count": 59,
   "metadata": {},
   "outputs": [
    {
     "name": "stdout",
     "output_type": "stream",
     "text": [
      "(375, 2208)\n"
     ]
    }
   ],
   "source": [
    "# throw out columns with constant values\n",
    "fp_dataframe = fp_dataframe.loc[:,fp_dataframe.apply(pd.Series.nunique) != 1]\n",
    "print(fp_dataframe.shape)\n",
    "fp_dataframe.insert(0, \"compound_id\", compound_ids)\n",
    "fp_dataframe.insert(fp_dataframe.shape[1], \"compound_toxicity\", compound_toxicity)\n",
    "fp_dataframe.drop(rows_to_remove[0], inplace=True)\n",
    "fp_dataframe.to_csv(\"fp_dataframe.csv\")"
   ]
  },
  {
   "cell_type": "code",
   "execution_count": null,
   "metadata": {},
   "outputs": [],
   "source": []
  }
 ],
 "metadata": {
  "kernelspec": {
   "display_name": "chin",
   "language": "python",
   "name": "python3"
  },
  "language_info": {
   "codemirror_mode": {
    "name": "ipython",
    "version": 3
   },
   "file_extension": ".py",
   "mimetype": "text/x-python",
   "name": "python",
   "nbconvert_exporter": "python",
   "pygments_lexer": "ipython3",
   "version": "3.10.12"
  }
 },
 "nbformat": 4,
 "nbformat_minor": 2
}
