{
 "cells": [
  {
   "cell_type": "code",
   "execution_count": 1,
   "metadata": {},
   "outputs": [
    {
     "name": "stderr",
     "output_type": "stream",
     "text": [
      "Intel(R) Extension for Scikit-learn* enabled (https://github.com/intel/scikit-learn-intelex)\n"
     ]
    }
   ],
   "source": [
    "import pandas as pd\n",
    "import numpy as np\n",
    "from sklearnex import patch_sklearn\n",
    "patch_sklearn()\n",
    "from sklearn import set_config\n",
    "set_config(transform_output = \"pandas\")"
   ]
  },
  {
   "cell_type": "markdown",
   "metadata": {},
   "source": [
    "## Data loading"
   ]
  },
  {
   "cell_type": "markdown",
   "metadata": {},
   "source": [
    "### Keny"
   ]
  },
  {
   "cell_type": "code",
   "execution_count": 2,
   "metadata": {},
   "outputs": [],
   "source": [
    "from src.features import load_and_preprocess,load_and_preprocess_train_data_set\n",
    "from rdkit.Chem import PandasTools\n",
    "COLUMNS_TO_REMOVE_PATH = \"columns_to_remove_in_preprocessing.json\""
   ]
  },
  {
   "cell_type": "code",
   "execution_count": 7,
   "metadata": {},
   "outputs": [],
   "source": [
    "def remove_mol_duplicates(df):\n",
    "    df[\"smiles\"] = [Chem.MolToSmiles(mol) for mol in df[\"ROMol\"]]\n",
    "    duplicates = df[\"smiles\"].duplicated(keep=False)\n",
    "    df =df[~duplicates]\n",
    "    df.drop([\"smiles\"],axis=1)\n",
    "    return df\n",
    "def load_and_preprocess_train_data_set(filename,columns_to_remove_path):\n",
    "    \"\"\" \n",
    "        load an sdf file, annotate by provided compound_id and create \n",
    "        molecular descriptors/fingerprint\n",
    "\n",
    "    \"\"\"\n",
    "    dfmols = PandasTools.LoadSDF(filename)\n",
    "    dfmols = remove_mol_duplicates(dfmols)\n",
    "    fp_distances = create_fp_features(dfmols[\"ROMol\"])\n",
    "    calc = Calculator(descriptors, ignore_3D=True)\n",
    "    df = calc.pandas(list(dfmols[\"ROMol\"]))\n",
    "    df.set_index(dfmols[\"compound_id\"])\n",
    "    columns_to_remove = load(open(columns_to_remove_path,\"rb\"))\n",
    "    df = df.drop(columns_to_remove,axis=1)\n",
    "    return pd.concat([df,fp_distances],axis=1),dfmols[\"pLC50\"]\n"
   ]
  },
  {
   "cell_type": "code",
   "execution_count": 3,
   "metadata": {},
   "outputs": [
    {
     "name": "stderr",
     "output_type": "stream",
     "text": [
      " 78%|███████▊  | 285/366 [00:12<00:01, 45.66it/s]"
     ]
    },
    {
     "name": "stdout",
     "output_type": "stream",
     "text": [
      "c:\\Users\\keny\\Nextcloud2\\Uni\\Chinf\\group_project\\chin_group_project\\.venv\\lib\\site-packages\\numpy\\core\\fromnumeric.py:88: RuntimeWarning: overflow encountered in reduce\n",
      "  return ufunc.reduce(obj, axis, dtype, out, **passkwargs)\n"
     ]
    },
    {
     "name": "stderr",
     "output_type": "stream",
     "text": [
      "100%|██████████| 366/366 [00:15<00:00, 24.09it/s]\n"
     ]
    }
   ],
   "source": [
    "features,target = load_and_preprocess_train_data_set(\"data/chin-qspr-dataset.sdf\",COLUMNS_TO_REMOVE_PATH)"
   ]
  },
  {
   "cell_type": "code",
   "execution_count": 4,
   "metadata": {},
   "outputs": [],
   "source": [
    "\n",
    "X_orig =features\n",
    "Y_orig = target"
   ]
  },
  {
   "cell_type": "code",
   "execution_count": 15,
   "metadata": {},
   "outputs": [],
   "source": [
    "descriptors = pd.read_csv(\"molecules_descriptors_mordred.csv\").iloc[:,2:]\n",
    "X_orig =descriptors.iloc[:,:-1]\n",
    "Y_orig = descriptors.iloc[:,-1]"
   ]
  },
  {
   "cell_type": "code",
   "execution_count": 86,
   "metadata": {},
   "outputs": [],
   "source": [
    "descriptors_and_fp = pd.read_csv(\"data/descriptor_fp_features.csv\").iloc[:,2:]\n",
    "X_orig =descriptors.iloc[:,:-1]\n",
    "Y_orig = descriptors.iloc[:,-1]"
   ]
  },
  {
   "cell_type": "markdown",
   "metadata": {},
   "source": [
    "### Max"
   ]
  },
  {
   "cell_type": "code",
   "execution_count": 118,
   "metadata": {},
   "outputs": [],
   "source": [
    "from sklearn.metrics import r2_score, mean_squared_error, pairwise_distances\n",
    "all_fp_data = pd.read_csv(\"fp_dataframe.csv\")\n",
    "all_data = pd.read_csv(\"molecules_descriptors_mordred.csv\")\n",
    "\n",
    "fp_data =  all_fp_data.drop(all_fp_data.columns[[0, 1, -1]], axis=1)\n",
    "\n",
    "pw_dist = pairwise_distances(fp_data, n_jobs = -1)\n",
    "avg_pw_dist = np.mean(pw_dist, axis=0).reshape(-1, 1)\n",
    "\n",
    "all_data.insert(3, \"avg_pw_dist\", avg_pw_dist)\n",
    "X_orig =all_data.iloc[:,2:-1]\n",
    "Y_orig = all_data.iloc[:,-1]\n"
   ]
  },
  {
   "cell_type": "markdown",
   "metadata": {},
   "source": [
    "### Final Data preprocessing"
   ]
  },
  {
   "cell_type": "code",
   "execution_count": 10,
   "metadata": {},
   "outputs": [],
   "source": [
    "from sklearn.model_selection import train_test_split\n",
    "X_train, X_test, y_train, y_test = train_test_split(X_orig, Y_orig,\n",
    "                                                    test_size=0.4, random_state=2)"
   ]
  },
  {
   "cell_type": "markdown",
   "metadata": {},
   "source": [
    "## Pipeline construction"
   ]
  },
  {
   "cell_type": "code",
   "execution_count": 5,
   "metadata": {},
   "outputs": [],
   "source": [
    "from sklearn.gaussian_process import GaussianProcessRegressor,kernels\n",
    "rbf_kernel = kernels.RBF(1.0, length_scale_bounds=(1e-3, 1e5))*1.0\n",
    "noise_kernel = 1* kernels.WhiteKernel(noise_level=1, noise_level_bounds=(1e-1, 1e2))\n",
    "periodic_kernel = kernels.ExpSineSquared(length_scale=1, periodicity=1)\n",
    "full_kernel = rbf_kernel+noise_kernel*periodic_kernel"
   ]
  },
  {
   "cell_type": "code",
   "execution_count": 12,
   "metadata": {},
   "outputs": [],
   "source": [
    "from sklearn.model_selection import GridSearchCV\n",
    "k_best_preselection = [200,500]\n",
    "sfs_features = [1,10,30]\n",
    "param_grid = [\n",
    "    {\n",
    "    #    \"k_best__k\":k_best_preselection,\n",
    "        \"sfs__n_features_to_select\":sfs_features,\n",
    "    }\n",
    "]"
   ]
  },
  {
   "cell_type": "code",
   "execution_count": 13,
   "metadata": {},
   "outputs": [],
   "source": [
    "from sklearn.pipeline import Pipeline\n",
    "from sklearn.preprocessing import StandardScaler\n",
    "from sklearn.feature_selection import VarianceThreshold,SelectKBest,f_regression,SequentialFeatureSelector\n",
    "from sklearn import linear_model\n",
    "\n",
    "#clf1 = linear_model.PoissonRegressor(max_iter=10000)\n",
    "clf1 = linear_model.Ridge(solver=\"auto\")\n",
    "estimators = [('standard_scaler',StandardScaler()),\n",
    "               # ('k_best', SelectKBest(f_regression)), \n",
    "                ('sfs',SequentialFeatureSelector(clf1, direction=\"forward\", cv = 2, n_jobs=-1,scoring=\"r2\")),\n",
    "                (\"gaussian_process_regressor\",GaussianProcessRegressor(kernel=full_kernel, random_state=1, alpha=0))               \n",
    "              ]\n",
    "full_model = Pipeline(estimators,memory=\"cache/\")\n",
    "grid = GridSearchCV(full_model,scoring=\"r2\", n_jobs=-1, param_grid=param_grid,cv=2,verbose=3)"
   ]
  },
  {
   "cell_type": "code",
   "execution_count": 18,
   "metadata": {},
   "outputs": [
    {
     "data": {
      "text/plain": [
       "<Axes: >"
      ]
     },
     "execution_count": 18,
     "metadata": {},
     "output_type": "execute_result"
    },
    {
     "data": {
      "image/png": "[encoded data removed]",
      "text/plain": [
       "<Figure size 640x480 with 1 Axes>"
      ]
     },
     "metadata": {},
     "output_type": "display_data"
    }
   ],
   "source": [
    "y_train.hist()"
   ]
  },
  {
   "cell_type": "code",
   "execution_count": 14,
   "metadata": {},
   "outputs": [
    {
     "name": "stdout",
     "output_type": "stream",
     "text": [
      "Fitting 2 folds for each of 3 candidates, totalling 6 fits\n"
     ]
    }
   ],
   "source": [
    "grid.fit(X_train, y_train)"
   ]
  },
  {
   "cell_type": "code",
   "execution_count": 26,
   "metadata": {},
   "outputs": [
    {
     "data": {
      "text/html": [
       "<div>\n",
       "<style scoped>\n",
       "    .dataframe tbody tr th:only-of-type {\n",
       "        vertical-align: middle;\n",
       "    }\n",
       "\n",
       "    .dataframe tbody tr th {\n",
       "        vertical-align: top;\n",
       "    }\n",
       "\n",
       "    .dataframe thead th {\n",
       "        text-align: right;\n",
       "    }\n",
       "</style>\n",
       "<table border=\"1\" class=\"dataframe\">\n",
       "  <thead>\n",
       "    <tr style=\"text-align: right;\">\n",
       "      <th></th>\n",
       "      <th>mean_fit_time</th>\n",
       "      <th>std_fit_time</th>\n",
       "      <th>mean_score_time</th>\n",
       "      <th>std_score_time</th>\n",
       "      <th>param_sfs__n_features_to_select</th>\n",
       "      <th>params</th>\n",
       "      <th>split0_test_score</th>\n",
       "      <th>split1_test_score</th>\n",
       "      <th>mean_test_score</th>\n",
       "      <th>std_test_score</th>\n",
       "      <th>rank_test_score</th>\n",
       "    </tr>\n",
       "  </thead>\n",
       "  <tbody>\n",
       "    <tr>\n",
       "      <th>0</th>\n",
       "      <td>22.976774</td>\n",
       "      <td>0.032498</td>\n",
       "      <td>0.014716</td>\n",
       "      <td>0.003238</td>\n",
       "      <td>1</td>\n",
       "      <td>{'sfs__n_features_to_select': 1}</td>\n",
       "      <td>0.478811</td>\n",
       "      <td>0.640881</td>\n",
       "      <td>0.559846</td>\n",
       "      <td>0.081035</td>\n",
       "      <td>2</td>\n",
       "    </tr>\n",
       "    <tr>\n",
       "      <th>1</th>\n",
       "      <td>238.090097</td>\n",
       "      <td>0.073823</td>\n",
       "      <td>0.007389</td>\n",
       "      <td>0.000408</td>\n",
       "      <td>10</td>\n",
       "      <td>{'sfs__n_features_to_select': 10}</td>\n",
       "      <td>0.478255</td>\n",
       "      <td>0.722695</td>\n",
       "      <td>0.600475</td>\n",
       "      <td>0.122220</td>\n",
       "      <td>1</td>\n",
       "    </tr>\n",
       "  </tbody>\n",
       "</table>\n",
       "</div>"
      ],
      "text/plain": [
       "   mean_fit_time  std_fit_time  mean_score_time  std_score_time  \\\n",
       "0      22.976774      0.032498         0.014716        0.003238   \n",
       "1     238.090097      0.073823         0.007389        0.000408   \n",
       "\n",
       "  param_sfs__n_features_to_select                             params  \\\n",
       "0                               1   {'sfs__n_features_to_select': 1}   \n",
       "1                              10  {'sfs__n_features_to_select': 10}   \n",
       "\n",
       "   split0_test_score  split1_test_score  mean_test_score  std_test_score  \\\n",
       "0           0.478811           0.640881         0.559846        0.081035   \n",
       "1           0.478255           0.722695         0.600475        0.122220   \n",
       "\n",
       "   rank_test_score  \n",
       "0                2  \n",
       "1                1  "
      ]
     },
     "execution_count": 26,
     "metadata": {},
     "output_type": "execute_result"
    }
   ],
   "source": [
    "pd.DataFrame(grid.cv_results_)"
   ]
  },
  {
   "cell_type": "code",
   "execution_count": 27,
   "metadata": {},
   "outputs": [
    {
     "data": {
      "text/plain": [
       "array(['ATSC3pe', 'RNCG', 'C1SP2', 'Mm', 'NdCH2', 'NaaN', 'IC5',\n",
       "       'PEOE_VSA10', 'EState_VSA5', 'SLogP'], dtype=object)"
      ]
     },
     "execution_count": 27,
     "metadata": {},
     "output_type": "execute_result"
    }
   ],
   "source": [
    "grid.best_estimator_[:-1].get_feature_names_out()"
   ]
  },
  {
   "cell_type": "code",
   "execution_count": 28,
   "metadata": {},
   "outputs": [
    {
     "data": {
      "text/plain": [
       "0.801015867682145"
      ]
     },
     "execution_count": 28,
     "metadata": {},
     "output_type": "execute_result"
    }
   ],
   "source": [
    "grid.best_estimator_.score(X_train, y_train)"
   ]
  },
  {
   "cell_type": "code",
   "execution_count": 29,
   "metadata": {},
   "outputs": [
    {
     "data": {
      "text/plain": [
       "0.7447346431467485"
      ]
     },
     "execution_count": 29,
     "metadata": {},
     "output_type": "execute_result"
    }
   ],
   "source": [
    "\n",
    "grid.best_estimator_.score(X_test, y_test)"
   ]
  },
  {
   "cell_type": "code",
   "execution_count": 137,
   "metadata": {},
   "outputs": [
    {
     "data": {
      "text/plain": [
       "['model.joblib']"
      ]
     },
     "execution_count": 137,
     "metadata": {},
     "output_type": "execute_result"
    }
   ],
   "source": [
    "from joblib import dump\n",
    "dump(grid.best_estimator_,\"model.joblib\")"
   ]
  }
 ],
 "metadata": {
  "kernelspec": {
   "display_name": ".venv",
   "language": "python",
   "name": "python3"
  },
  "language_info": {
   "codemirror_mode": {
    "name": "ipython",
    "version": 3
   },
   "file_extension": ".py",
   "mimetype": "text/x-python",
   "name": "python",
   "nbconvert_exporter": "python",
   "pygments_lexer": "ipython3",
   "version": "3.10.8"
  }
 },
 "nbformat": 4,
 "nbformat_minor": 2
}
