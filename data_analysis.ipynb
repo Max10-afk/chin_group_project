{
 "cells": [
  {
   "cell_type": "code",
   "execution_count": 23,
   "metadata": {},
   "outputs": [
    {
     "name": "stderr",
     "output_type": "stream",
     "text": [
      "Intel(R) Extension for Scikit-learn* enabled (https://github.com/intel/scikit-learn-intelex)\n"
     ]
    }
   ],
   "source": [
    "import pandas as pd\n",
    "import numpy as np\n",
    "from sklearnex import patch_sklearn\n",
    "patch_sklearn()\n",
    "from seaborn import pairplot\n",
    "from matplotlib import pyplot as plt\n",
    "from sklearn.ensemble import RandomForestClassifier\n",
    "from sklearn.preprocessing import StandardScaler\n",
    "from sklearn.model_selection import train_test_split, cross_validate\n",
    "from sklearn.linear_model import SGDRegressor\n",
    "from sklearn import linear_model\n",
    "from sklearn.svm import SVR\n",
    "from sklearn.model_selection import GridSearchCV\n",
    "from sklearn.feature_selection import RFE, SequentialFeatureSelector\n",
    "from sklearn.ensemble import IsolationForest,  GradientBoostingRegressor\n",
    "from sklearn.gaussian_process import GaussianProcessRegressor, kernels\n",
    "import torch\n",
    "import torch.nn as nn\n",
    "import torch.optim as optim\n",
    "import tqdm\n",
    "import copy\n",
    "from sklearn.metrics import r2_score, mean_squared_error, pairwise_distances"
   ]
  },
  {
   "cell_type": "code",
   "execution_count": 2,
   "metadata": {},
   "outputs": [],
   "source": [
    "if torch.cuda.is_available():\n",
    "    device = torch.device(\"cuda\")\n",
    "else:\n",
    "    device = torch.device(\"cpu\")\n",
    "torch.set_default_device(device)"
   ]
  },
  {
   "cell_type": "markdown",
   "metadata": {},
   "source": [
    "#### Useful tools to evaluate model performance"
   ]
  },
  {
   "cell_type": "code",
   "execution_count": 77,
   "metadata": {},
   "outputs": [],
   "source": [
    "def model_scorer(pred_model, x_train, y_train, cv = 3):\n",
    "    pred_model.fit(x_train, y_train)\n",
    "    normal_score = pred_model.score(x_train, y_train)\n",
    "    rand_y = y_train.sample(frac = 1)\n",
    "    pred_model.fit(x_train, rand_y)\n",
    "    shuffle_score = pred_model.score(x_train, rand_y)\n",
    "    pred_model.fit(x_train, y_train)\n",
    "    cv_score = cross_validate(pred_model, x_train, y_train, cv = cv)\n",
    "    return[normal_score, shuffle_score, cv_score]"
   ]
  },
  {
   "cell_type": "code",
   "execution_count": 78,
   "metadata": {},
   "outputs": [
    {
     "name": "stdout",
     "output_type": "stream",
     "text": [
      "(366, 735)\n"
     ]
    },
    {
     "name": "stderr",
     "output_type": "stream",
     "text": [
      "c:\\Users\\serra\\anaconda3\\envs\\data_analysis\\Lib\\site-packages\\daal4py\\sklearn\\utils\\validation.py:264: FutureWarning: is_sparse is deprecated and will be removed in a future version. Check `isinstance(dtype, pd.SparseDtype)` instead.\n",
      "  array.dtypes.apply(is_sparse).any():\n"
     ]
    }
   ],
   "source": [
    "all_fp_data = pd.read_csv(\"fp_dataframe.csv\")\n",
    "all_data = pd.read_csv(\"molecules_descriptors_mordred.csv\")\n",
    "print(all_data.shape)\n",
    "# tox_outlier = np.argmax(all_data[\"compound_toxicity\"])\n",
    "#all_data = all_data.drop(tox_outlier)\n",
    "fp_data =  all_fp_data.drop(all_fp_data.columns[[0, 1, -1]], axis=1)\n",
    "# fp_data = fp_data.drop(tox_outlier)\n",
    "pw_dist = pairwise_distances(fp_data, n_jobs = -1)\n",
    "avg_pw_dist = np.mean(pw_dist, axis=0).reshape(-1, 1)\n",
    "scaler = StandardScaler()\n",
    "all_data.insert(3, \"avg_pw_dist\", avg_pw_dist)\n",
    "X_train, X_test, y_train, y_test = train_test_split(all_data.drop(all_data.columns[[0, 1, -1]], axis=1), all_data.iloc[:,-1],\n",
    "                                                    test_size=0.4, random_state=2)\n",
    "scaled_x_train = scaler.fit_transform(X_train)\n",
    "scaled_x_test = scaler.fit_transform(X_test)"
   ]
  },
  {
   "cell_type": "markdown",
   "metadata": {},
   "source": [
    "Tried some feature engineering - pairwise distances from fingerprint and add avergadge distance as feature"
   ]
  },
  {
   "cell_type": "markdown",
   "metadata": {},
   "source": [
    "### Find out a bit about the data - correlation"
   ]
  },
  {
   "cell_type": "code",
   "execution_count": 79,
   "metadata": {},
   "outputs": [],
   "source": [
    "all_data_corr = all_data.drop(all_data.columns[[0,1]], axis = 1).corr(method=\"spearman\")"
   ]
  },
  {
   "cell_type": "markdown",
   "metadata": {},
   "source": [
    "Feature with highest (monotonic) correlation + its correlation"
   ]
  },
  {
   "cell_type": "code",
   "execution_count": 80,
   "metadata": {},
   "outputs": [
    {
     "name": "stderr",
     "output_type": "stream",
     "text": [
      "C:\\Users\\serra\\AppData\\Local\\Temp\\ipykernel_15148\\1691819123.py:1: FutureWarning: Series.__getitem__ treating keys as positions is deprecated. In a future version, integer keys will always be treated as labels (consistent with DataFrame behavior). To access a value by position, use `ser.iloc[pos]`\n",
      "  my_features = all_data_corr[\"compound_toxicity\"][np.argsort(np.abs(all_data_corr[\"compound_toxicity\"].to_numpy()))].iloc[::-1][1:300].index.to_list()\n"
     ]
    }
   ],
   "source": [
    "my_features = all_data_corr[\"compound_toxicity\"][np.argsort(np.abs(all_data_corr[\"compound_toxicity\"].to_numpy()))].iloc[::-1][1:300].index.to_list()"
   ]
  },
  {
   "cell_type": "code",
   "execution_count": 81,
   "metadata": {},
   "outputs": [],
   "source": [
    "my_features += [\"compound_toxicity\"]"
   ]
  },
  {
   "cell_type": "code",
   "execution_count": 82,
   "metadata": {},
   "outputs": [
    {
     "data": {
      "text/plain": [
       "['SLogP',\n",
       " 'FilterItLogS',\n",
       " 'ZMIC1',\n",
       " 'ZMIC0',\n",
       " 'LabuteASA',\n",
       " 'SZ',\n",
       " 'ATS0p',\n",
       " 'Sm',\n",
       " 'MW',\n",
       " 'SMR',\n",
       " 'Xp-0dv',\n",
       " 'ATS0v',\n",
       " 'ATS1Z',\n",
       " 'Xp-1dv',\n",
       " 'Xp-3dv',\n",
       " 'ATS1m',\n",
       " 'Xp-6dv',\n",
       " 'Xp-5dv',\n",
       " 'Xp-4dv',\n",
       " 'VMcGowan',\n",
       " 'ZMIC2',\n",
       " 'ATS4Z',\n",
       " 'ATS3Z',\n",
       " 'ECIndex',\n",
       " 'ATS4m',\n",
       " 'ATS5m',\n",
       " 'Xp-2dv',\n",
       " 'ATS2p',\n",
       " 'WPath',\n",
       " 'mZagreb2',\n",
       " 'ATS3m',\n",
       " 'ATS2v',\n",
       " 'ATS2Z',\n",
       " 'ATS5Z',\n",
       " 'Xp-1d',\n",
       " 'nHeavyAtom',\n",
       " 'Xp-0d',\n",
       " 'ATS3p',\n",
       " 'ATS1v',\n",
       " 'ATS1p',\n",
       " 'Kier1',\n",
       " 'Xp-7dv',\n",
       " 'Radius',\n",
       " 'ATS3v',\n",
       " 'SRW02',\n",
       " 'nBondsO',\n",
       " 'VAdjMat',\n",
       " 'MWC01',\n",
       " 'ATS2m',\n",
       " 'Diameter',\n",
       " 'ATS0Z',\n",
       " 'Sv',\n",
       " 'fragCpx',\n",
       " 'ATS0m',\n",
       " 'ATS1d',\n",
       " 'WPol',\n",
       " 'Sp',\n",
       " 'apol',\n",
       " 'Xp-6d',\n",
       " 'TMPC10',\n",
       " 'MWC02',\n",
       " 'Zagreb1',\n",
       " 'Xp-3d',\n",
       " 'TMWC10',\n",
       " 'MPC6',\n",
       " 'ATS0d',\n",
       " 'piPC1',\n",
       " 'SRW04',\n",
       " 'ZMIC3',\n",
       " 'Zagreb2',\n",
       " 'MWC03',\n",
       " 'Xp-2d',\n",
       " 'piPC6',\n",
       " 'Xp-7d',\n",
       " 'MPC2',\n",
       " 'MPC7',\n",
       " 'GGI4',\n",
       " 'PEOE_VSA6',\n",
       " 'piPC5',\n",
       " 'ATS4v',\n",
       " 'piPC2',\n",
       " 'MPC5',\n",
       " 'MPC3',\n",
       " 'TpiPC10',\n",
       " 'ATSC0p',\n",
       " 'MWC04',\n",
       " 'Xp-5d',\n",
       " 'ATS4p',\n",
       " 'nC',\n",
       " 'piPC3',\n",
       " 'ATSC0m',\n",
       " 'MWC05',\n",
       " 'ATSC0Z',\n",
       " 'SRW06',\n",
       " 'BertzCT',\n",
       " 'Xp-4d',\n",
       " 'piPC4',\n",
       " 'ATS6m',\n",
       " 'MPC4',\n",
       " 'AATS2i',\n",
       " 'piPC7',\n",
       " 'AATS1i',\n",
       " 'MIC5',\n",
       " 'MWC06',\n",
       " 'ATS6Z',\n",
       " 'ATS2d',\n",
       " 'TSRW10',\n",
       " 'MWC07',\n",
       " 'avg_pw_dist',\n",
       " 'MIC4',\n",
       " 'NaasC',\n",
       " 'SRW08',\n",
       " 'ATS3d',\n",
       " 'Kier2',\n",
       " 'MWC09',\n",
       " 'MWC08',\n",
       " 'IC5',\n",
       " 'ATS5dv',\n",
       " 'Mi',\n",
       " 'ZMIC4',\n",
       " 'AATS0i',\n",
       " 'MWC10',\n",
       " 'SRW10',\n",
       " 'ATS5v',\n",
       " 'MIC3',\n",
       " 'MPC8',\n",
       " 'GGI8',\n",
       " 'Xpc-6dv',\n",
       " 'ATS8dv',\n",
       " 'mZagreb1',\n",
       " 'ATS6dv',\n",
       " 'RNCG',\n",
       " 'JGI8',\n",
       " 'C2SP2',\n",
       " 'IC4',\n",
       " 'AATS1d',\n",
       " 'piPC8',\n",
       " 'ATS8Z',\n",
       " 'ZMIC5',\n",
       " 'ATS6v',\n",
       " 'MPC9',\n",
       " 'AATS1p',\n",
       " 'AATS2p',\n",
       " 'ATS8m',\n",
       " 'ATS8v',\n",
       " 'ATS4dv',\n",
       " 'ATS8p',\n",
       " 'ATS5p',\n",
       " 'GATS1i',\n",
       " 'ATS7dv',\n",
       " 'Xpc-6d',\n",
       " 'ATS8d',\n",
       " 'ATS0pe',\n",
       " 'TIC5',\n",
       " 'GGI7',\n",
       " 'ATS8pe',\n",
       " 'ATS8se',\n",
       " 'ATS8are',\n",
       " 'ATS8s',\n",
       " 'TIC4',\n",
       " 'AXp-2d',\n",
       " 'ATS7m',\n",
       " 'piPC9',\n",
       " 'ATS7Z',\n",
       " 'AATS1v',\n",
       " 'nBondsKD',\n",
       " 'ATS8i',\n",
       " 'AATS2d',\n",
       " 'ATS7v',\n",
       " 'GGI6',\n",
       " 'ATSC0d',\n",
       " 'MPC10',\n",
       " 'ATS6p',\n",
       " 'GGI2',\n",
       " 'ATS7p',\n",
       " 'AATS2v',\n",
       " 'TIC3',\n",
       " 'GGI9',\n",
       " 'piPC10',\n",
       " 'GGI3',\n",
       " 'TIC0',\n",
       " 'JGI9',\n",
       " 'ATS0se',\n",
       " 'nBondsM',\n",
       " 'ATS7d',\n",
       " 'ATS3dv',\n",
       " 'Xch-7dv',\n",
       " 'ATS1pe',\n",
       " 'ATS7pe',\n",
       " 'Xpc-5dv',\n",
       " 'Xch-7d',\n",
       " 'ATS0are',\n",
       " 'ATS7are',\n",
       " 'MIC2',\n",
       " 'ATS4d',\n",
       " 'AATS0d',\n",
       " 'n6aRing',\n",
       " 'ATS7se',\n",
       " 'ATS6s',\n",
       " 'ATS7s',\n",
       " 'nAromAtom',\n",
       " 'nBondsA',\n",
       " 'nAromBond',\n",
       " 'ATS1are',\n",
       " 'SMR_VSA7',\n",
       " 'ATS1se',\n",
       " 'ATS1dv',\n",
       " 'AXp-1d',\n",
       " 'ATS7i',\n",
       " 'ATS5d',\n",
       " 'JGI7',\n",
       " 'AATS0p',\n",
       " 'ATS6d',\n",
       " 'Xpc-5d',\n",
       " 'Spe',\n",
       " 'GGI5',\n",
       " 'Mp',\n",
       " 'naRing',\n",
       " 'AATSC1v',\n",
       " 'MATS1v',\n",
       " 'GGI10',\n",
       " 'AATS0v',\n",
       " 'JGI10',\n",
       " 'ATS1s',\n",
       " 'ATS6pe',\n",
       " 'IC3',\n",
       " 'Sare',\n",
       " 'ATS6are',\n",
       " 'ATS3pe',\n",
       " 'Sse',\n",
       " 'ATS2dv',\n",
       " 'ATS6se',\n",
       " 'Xpc-4d',\n",
       " 'Mv',\n",
       " 'nBonds',\n",
       " 'TIC2',\n",
       " 'JGI6',\n",
       " 'ATS4pe',\n",
       " 'ATS3se',\n",
       " 'TIC1',\n",
       " 'ATS3are',\n",
       " 'ATS5s',\n",
       " 'n6Ring',\n",
       " 'GATS1p',\n",
       " 'ATSC0v',\n",
       " 'Xpc-4dv',\n",
       " 'ATS5pe',\n",
       " 'ATS2pe',\n",
       " 'AATSC0p',\n",
       " 'ATS4are',\n",
       " 'ATSC0i',\n",
       " 'Xc-5dv',\n",
       " 'ATS5are',\n",
       " 'ATS4se',\n",
       " 'MATS1i',\n",
       " 'ATS6i',\n",
       " 'nAtom',\n",
       " 'HybRatio',\n",
       " 'GATS1v',\n",
       " 'AATSC1i',\n",
       " 'ATS5se',\n",
       " 'ATS1i',\n",
       " 'ATS0dv',\n",
       " 'ATS2are',\n",
       " 'FCSP3',\n",
       " 'AATSC1p',\n",
       " 'ATS2se',\n",
       " 'MATS1p',\n",
       " 'ATS4s',\n",
       " 'Si',\n",
       " 'ATS3s',\n",
       " 'nRing',\n",
       " 'Xc-5d',\n",
       " 'AATS2m',\n",
       " 'AATS2Z',\n",
       " 'ATS2s',\n",
       " 'SlogP_VSA7',\n",
       " 'AATS1m',\n",
       " 'ATS0i',\n",
       " 'AATS1Z',\n",
       " 'GGI1',\n",
       " 'MIC1',\n",
       " 'JGI4',\n",
       " 'ATS5i',\n",
       " 'SlogP_VSA6',\n",
       " 'VSA_EState6',\n",
       " 'GATS2d',\n",
       " 'SlogP_VSA11',\n",
       " 'EState_VSA5',\n",
       " 'Mm',\n",
       " 'AMW',\n",
       " 'nRot',\n",
       " 'MZ',\n",
       " 'ATS4i',\n",
       " 'SaasC',\n",
       " 'AATSC0d',\n",
       " 'AATS2dv',\n",
       " 'ATS3i',\n",
       " 'SIC5',\n",
       " 'compound_toxicity']"
      ]
     },
     "execution_count": 82,
     "metadata": {},
     "output_type": "execute_result"
    }
   ],
   "source": [
    "my_features"
   ]
  },
  {
   "cell_type": "code",
   "execution_count": 83,
   "metadata": {},
   "outputs": [
    {
     "data": {
      "text/html": [
       "<div>\n",
       "<style scoped>\n",
       "    .dataframe tbody tr th:only-of-type {\n",
       "        vertical-align: middle;\n",
       "    }\n",
       "\n",
       "    .dataframe tbody tr th {\n",
       "        vertical-align: top;\n",
       "    }\n",
       "\n",
       "    .dataframe thead th {\n",
       "        text-align: right;\n",
       "    }\n",
       "</style>\n",
       "<table border=\"1\" class=\"dataframe\">\n",
       "  <thead>\n",
       "    <tr style=\"text-align: right;\">\n",
       "      <th></th>\n",
       "      <th>SLogP</th>\n",
       "      <th>FilterItLogS</th>\n",
       "      <th>ZMIC1</th>\n",
       "      <th>ZMIC0</th>\n",
       "      <th>LabuteASA</th>\n",
       "      <th>SZ</th>\n",
       "      <th>ATS0p</th>\n",
       "      <th>Sm</th>\n",
       "      <th>MW</th>\n",
       "      <th>SMR</th>\n",
       "      <th>...</th>\n",
       "      <th>AMW</th>\n",
       "      <th>nRot</th>\n",
       "      <th>MZ</th>\n",
       "      <th>ATS4i</th>\n",
       "      <th>SaasC</th>\n",
       "      <th>AATSC0d</th>\n",
       "      <th>AATS2dv</th>\n",
       "      <th>ATS3i</th>\n",
       "      <th>SIC5</th>\n",
       "      <th>compound_toxicity</th>\n",
       "    </tr>\n",
       "  </thead>\n",
       "  <tbody>\n",
       "    <tr>\n",
       "      <th>0</th>\n",
       "      <td>0.5694</td>\n",
       "      <td>-0.646644</td>\n",
       "      <td>14.568922</td>\n",
       "      <td>22.500868</td>\n",
       "      <td>37.109145</td>\n",
       "      <td>8.000000</td>\n",
       "      <td>15.998911</td>\n",
       "      <td>7.335443</td>\n",
       "      <td>88.052429</td>\n",
       "      <td>22.3070</td>\n",
       "      <td>...</td>\n",
       "      <td>6.289459</td>\n",
       "      <td>1</td>\n",
       "      <td>0.571429</td>\n",
       "      <td>1875.486620</td>\n",
       "      <td>0.000000</td>\n",
       "      <td>0.346939</td>\n",
       "      <td>2.818182</td>\n",
       "      <td>3489.341538</td>\n",
       "      <td>0.784069</td>\n",
       "      <td>2.583</td>\n",
       "    </tr>\n",
       "    <tr>\n",
       "      <th>1</th>\n",
       "      <td>0.7855</td>\n",
       "      <td>-1.182035</td>\n",
       "      <td>25.853911</td>\n",
       "      <td>29.317329</td>\n",
       "      <td>53.297758</td>\n",
       "      <td>10.666667</td>\n",
       "      <td>24.487794</td>\n",
       "      <td>10.085671</td>\n",
       "      <td>121.052764</td>\n",
       "      <td>34.9599</td>\n",
       "      <td>...</td>\n",
       "      <td>7.565798</td>\n",
       "      <td>1</td>\n",
       "      <td>0.666667</td>\n",
       "      <td>3950.467113</td>\n",
       "      <td>0.553241</td>\n",
       "      <td>0.496094</td>\n",
       "      <td>5.750000</td>\n",
       "      <td>4521.729919</td>\n",
       "      <td>0.968750</td>\n",
       "      <td>2.263</td>\n",
       "    </tr>\n",
       "    <tr>\n",
       "      <th>2</th>\n",
       "      <td>2.9359</td>\n",
       "      <td>-3.006361</td>\n",
       "      <td>25.931763</td>\n",
       "      <td>37.170610</td>\n",
       "      <td>63.820310</td>\n",
       "      <td>13.333333</td>\n",
       "      <td>33.746336</td>\n",
       "      <td>11.842644</td>\n",
       "      <td>142.135765</td>\n",
       "      <td>44.0570</td>\n",
       "      <td>...</td>\n",
       "      <td>5.076277</td>\n",
       "      <td>6</td>\n",
       "      <td>0.476190</td>\n",
       "      <td>9488.115242</td>\n",
       "      <td>0.000000</td>\n",
       "      <td>0.275510</td>\n",
       "      <td>1.098039</td>\n",
       "      <td>10967.070397</td>\n",
       "      <td>0.647045</td>\n",
       "      <td>3.662</td>\n",
       "    </tr>\n",
       "    <tr>\n",
       "      <th>3</th>\n",
       "      <td>1.8978</td>\n",
       "      <td>-2.253967</td>\n",
       "      <td>25.487073</td>\n",
       "      <td>38.555991</td>\n",
       "      <td>65.801297</td>\n",
       "      <td>13.333333</td>\n",
       "      <td>30.832637</td>\n",
       "      <td>12.503289</td>\n",
       "      <td>150.068080</td>\n",
       "      <td>42.9985</td>\n",
       "      <td>...</td>\n",
       "      <td>7.146099</td>\n",
       "      <td>3</td>\n",
       "      <td>0.634921</td>\n",
       "      <td>5177.492792</td>\n",
       "      <td>1.478290</td>\n",
       "      <td>0.439909</td>\n",
       "      <td>4.647059</td>\n",
       "      <td>6176.706430</td>\n",
       "      <td>0.926767</td>\n",
       "      <td>3.728</td>\n",
       "    </tr>\n",
       "    <tr>\n",
       "      <th>4</th>\n",
       "      <td>1.5608</td>\n",
       "      <td>-1.400866</td>\n",
       "      <td>23.096582</td>\n",
       "      <td>33.113603</td>\n",
       "      <td>57.087305</td>\n",
       "      <td>11.666667</td>\n",
       "      <td>29.178985</td>\n",
       "      <td>10.506952</td>\n",
       "      <td>126.104465</td>\n",
       "      <td>38.9818</td>\n",
       "      <td>...</td>\n",
       "      <td>5.482803</td>\n",
       "      <td>4</td>\n",
       "      <td>0.507246</td>\n",
       "      <td>7638.837378</td>\n",
       "      <td>0.000000</td>\n",
       "      <td>0.298677</td>\n",
       "      <td>1.615385</td>\n",
       "      <td>8562.993733</td>\n",
       "      <td>0.877406</td>\n",
       "      <td>5.485</td>\n",
       "    </tr>\n",
       "    <tr>\n",
       "      <th>...</th>\n",
       "      <td>...</td>\n",
       "      <td>...</td>\n",
       "      <td>...</td>\n",
       "      <td>...</td>\n",
       "      <td>...</td>\n",
       "      <td>...</td>\n",
       "      <td>...</td>\n",
       "      <td>...</td>\n",
       "      <td>...</td>\n",
       "      <td>...</td>\n",
       "      <td>...</td>\n",
       "      <td>...</td>\n",
       "      <td>...</td>\n",
       "      <td>...</td>\n",
       "      <td>...</td>\n",
       "      <td>...</td>\n",
       "      <td>...</td>\n",
       "      <td>...</td>\n",
       "      <td>...</td>\n",
       "      <td>...</td>\n",
       "      <td>...</td>\n",
       "    </tr>\n",
       "    <tr>\n",
       "      <th>361</th>\n",
       "      <td>2.0714</td>\n",
       "      <td>-2.565100</td>\n",
       "      <td>35.910392</td>\n",
       "      <td>37.859336</td>\n",
       "      <td>52.378934</td>\n",
       "      <td>12.333333</td>\n",
       "      <td>24.846965</td>\n",
       "      <td>12.273999</td>\n",
       "      <td>145.945683</td>\n",
       "      <td>31.0810</td>\n",
       "      <td>...</td>\n",
       "      <td>13.267789</td>\n",
       "      <td>2</td>\n",
       "      <td>1.121212</td>\n",
       "      <td>1613.188346</td>\n",
       "      <td>0.000000</td>\n",
       "      <td>0.413223</td>\n",
       "      <td>0.654321</td>\n",
       "      <td>3038.555927</td>\n",
       "      <td>0.684657</td>\n",
       "      <td>3.408</td>\n",
       "    </tr>\n",
       "    <tr>\n",
       "      <th>362</th>\n",
       "      <td>2.2442</td>\n",
       "      <td>-2.690141</td>\n",
       "      <td>26.951706</td>\n",
       "      <td>29.719780</td>\n",
       "      <td>48.440610</td>\n",
       "      <td>11.000000</td>\n",
       "      <td>24.217303</td>\n",
       "      <td>10.574307</td>\n",
       "      <td>126.000306</td>\n",
       "      <td>30.6740</td>\n",
       "      <td>...</td>\n",
       "      <td>9.000022</td>\n",
       "      <td>3</td>\n",
       "      <td>0.785714</td>\n",
       "      <td>3089.228525</td>\n",
       "      <td>0.000000</td>\n",
       "      <td>0.204082</td>\n",
       "      <td>0.462963</td>\n",
       "      <td>4568.183680</td>\n",
       "      <td>0.587265</td>\n",
       "      <td>3.391</td>\n",
       "    </tr>\n",
       "    <tr>\n",
       "      <th>363</th>\n",
       "      <td>1.6034</td>\n",
       "      <td>-1.841310</td>\n",
       "      <td>24.979470</td>\n",
       "      <td>43.064197</td>\n",
       "      <td>70.595531</td>\n",
       "      <td>14.666667</td>\n",
       "      <td>31.475841</td>\n",
       "      <td>13.835318</td>\n",
       "      <td>166.062994</td>\n",
       "      <td>44.6633</td>\n",
       "      <td>...</td>\n",
       "      <td>7.548318</td>\n",
       "      <td>3</td>\n",
       "      <td>0.666667</td>\n",
       "      <td>5854.768783</td>\n",
       "      <td>0.903519</td>\n",
       "      <td>0.520661</td>\n",
       "      <td>5.885714</td>\n",
       "      <td>6483.926721</td>\n",
       "      <td>0.931148</td>\n",
       "      <td>3.278</td>\n",
       "    </tr>\n",
       "    <tr>\n",
       "      <th>364</th>\n",
       "      <td>0.5410</td>\n",
       "      <td>-0.517072</td>\n",
       "      <td>22.625565</td>\n",
       "      <td>24.453803</td>\n",
       "      <td>32.395033</td>\n",
       "      <td>8.333333</td>\n",
       "      <td>8.485590</td>\n",
       "      <td>8.329049</td>\n",
       "      <td>100.013599</td>\n",
       "      <td>13.1408</td>\n",
       "      <td>...</td>\n",
       "      <td>11.112622</td>\n",
       "      <td>0</td>\n",
       "      <td>0.925926</td>\n",
       "      <td>710.768858</td>\n",
       "      <td>0.000000</td>\n",
       "      <td>0.913580</td>\n",
       "      <td>16.076923</td>\n",
       "      <td>2656.289253</td>\n",
       "      <td>0.763230</td>\n",
       "      <td>2.924</td>\n",
       "    </tr>\n",
       "    <tr>\n",
       "      <th>365</th>\n",
       "      <td>1.2842</td>\n",
       "      <td>-1.707125</td>\n",
       "      <td>19.108459</td>\n",
       "      <td>29.317329</td>\n",
       "      <td>53.542457</td>\n",
       "      <td>10.666667</td>\n",
       "      <td>24.487794</td>\n",
       "      <td>10.085671</td>\n",
       "      <td>121.052764</td>\n",
       "      <td>34.2415</td>\n",
       "      <td>...</td>\n",
       "      <td>7.565798</td>\n",
       "      <td>1</td>\n",
       "      <td>0.666667</td>\n",
       "      <td>3607.853221</td>\n",
       "      <td>0.712963</td>\n",
       "      <td>0.496094</td>\n",
       "      <td>5.200000</td>\n",
       "      <td>4236.129539</td>\n",
       "      <td>0.925705</td>\n",
       "      <td>2.858</td>\n",
       "    </tr>\n",
       "  </tbody>\n",
       "</table>\n",
       "<p>366 rows × 300 columns</p>\n",
       "</div>"
      ],
      "text/plain": [
       "      SLogP  FilterItLogS      ZMIC1      ZMIC0  LabuteASA         SZ  \\\n",
       "0    0.5694     -0.646644  14.568922  22.500868  37.109145   8.000000   \n",
       "1    0.7855     -1.182035  25.853911  29.317329  53.297758  10.666667   \n",
       "2    2.9359     -3.006361  25.931763  37.170610  63.820310  13.333333   \n",
       "3    1.8978     -2.253967  25.487073  38.555991  65.801297  13.333333   \n",
       "4    1.5608     -1.400866  23.096582  33.113603  57.087305  11.666667   \n",
       "..      ...           ...        ...        ...        ...        ...   \n",
       "361  2.0714     -2.565100  35.910392  37.859336  52.378934  12.333333   \n",
       "362  2.2442     -2.690141  26.951706  29.719780  48.440610  11.000000   \n",
       "363  1.6034     -1.841310  24.979470  43.064197  70.595531  14.666667   \n",
       "364  0.5410     -0.517072  22.625565  24.453803  32.395033   8.333333   \n",
       "365  1.2842     -1.707125  19.108459  29.317329  53.542457  10.666667   \n",
       "\n",
       "         ATS0p         Sm          MW      SMR  ...        AMW  nRot  \\\n",
       "0    15.998911   7.335443   88.052429  22.3070  ...   6.289459     1   \n",
       "1    24.487794  10.085671  121.052764  34.9599  ...   7.565798     1   \n",
       "2    33.746336  11.842644  142.135765  44.0570  ...   5.076277     6   \n",
       "3    30.832637  12.503289  150.068080  42.9985  ...   7.146099     3   \n",
       "4    29.178985  10.506952  126.104465  38.9818  ...   5.482803     4   \n",
       "..         ...        ...         ...      ...  ...        ...   ...   \n",
       "361  24.846965  12.273999  145.945683  31.0810  ...  13.267789     2   \n",
       "362  24.217303  10.574307  126.000306  30.6740  ...   9.000022     3   \n",
       "363  31.475841  13.835318  166.062994  44.6633  ...   7.548318     3   \n",
       "364   8.485590   8.329049  100.013599  13.1408  ...  11.112622     0   \n",
       "365  24.487794  10.085671  121.052764  34.2415  ...   7.565798     1   \n",
       "\n",
       "           MZ        ATS4i     SaasC   AATSC0d    AATS2dv         ATS3i  \\\n",
       "0    0.571429  1875.486620  0.000000  0.346939   2.818182   3489.341538   \n",
       "1    0.666667  3950.467113  0.553241  0.496094   5.750000   4521.729919   \n",
       "2    0.476190  9488.115242  0.000000  0.275510   1.098039  10967.070397   \n",
       "3    0.634921  5177.492792  1.478290  0.439909   4.647059   6176.706430   \n",
       "4    0.507246  7638.837378  0.000000  0.298677   1.615385   8562.993733   \n",
       "..        ...          ...       ...       ...        ...           ...   \n",
       "361  1.121212  1613.188346  0.000000  0.413223   0.654321   3038.555927   \n",
       "362  0.785714  3089.228525  0.000000  0.204082   0.462963   4568.183680   \n",
       "363  0.666667  5854.768783  0.903519  0.520661   5.885714   6483.926721   \n",
       "364  0.925926   710.768858  0.000000  0.913580  16.076923   2656.289253   \n",
       "365  0.666667  3607.853221  0.712963  0.496094   5.200000   4236.129539   \n",
       "\n",
       "         SIC5  compound_toxicity  \n",
       "0    0.784069              2.583  \n",
       "1    0.968750              2.263  \n",
       "2    0.647045              3.662  \n",
       "3    0.926767              3.728  \n",
       "4    0.877406              5.485  \n",
       "..        ...                ...  \n",
       "361  0.684657              3.408  \n",
       "362  0.587265              3.391  \n",
       "363  0.931148              3.278  \n",
       "364  0.763230              2.924  \n",
       "365  0.925705              2.858  \n",
       "\n",
       "[366 rows x 300 columns]"
      ]
     },
     "execution_count": 83,
     "metadata": {},
     "output_type": "execute_result"
    }
   ],
   "source": [
    "all_data[my_features]"
   ]
  },
  {
   "cell_type": "code",
   "execution_count": 84,
   "metadata": {},
   "outputs": [
    {
     "name": "stdout",
     "output_type": "stream",
     "text": [
      "(366, 735)\n"
     ]
    },
    {
     "name": "stderr",
     "output_type": "stream",
     "text": [
      "c:\\Users\\serra\\anaconda3\\envs\\data_analysis\\Lib\\site-packages\\daal4py\\sklearn\\utils\\validation.py:264: FutureWarning: is_sparse is deprecated and will be removed in a future version. Check `isinstance(dtype, pd.SparseDtype)` instead.\n",
      "  array.dtypes.apply(is_sparse).any():\n"
     ]
    }
   ],
   "source": [
    "all_fp_data = pd.read_csv(\"fp_dataframe.csv\")\n",
    "all_data = pd.read_csv(\"molecules_descriptors_mordred.csv\")\n",
    "print(all_data.shape)\n",
    "# tox_outlier = np.argmax(all_data[\"compound_toxicity\"])\n",
    "#all_data = all_data.drop(tox_outlier)\n",
    "fp_data =  all_fp_data.drop(all_fp_data.columns[[0, 1, -1]], axis=1)\n",
    "# fp_data = fp_data.drop(tox_outlier)\n",
    "pw_dist = pairwise_distances(fp_data, n_jobs = -1)\n",
    "avg_pw_dist = np.mean(pw_dist, axis=0).reshape(-1, 1)\n",
    "scaler = StandardScaler()\n",
    "all_data.insert(3, \"avg_pw_dist\", avg_pw_dist)\n",
    "all_data = all_data[my_features]\n",
    "X_train, X_test, y_train, y_test = train_test_split(all_data.drop(all_data.columns[-1], axis=1), all_data.iloc[:,-1],\n",
    "                                                    test_size=0.4, random_state=2)\n",
    "scaled_x_train = scaler.fit_transform(X_train)\n",
    "scaled_x_test = scaler.fit_transform(X_test)"
   ]
  },
  {
   "cell_type": "code",
   "execution_count": 85,
   "metadata": {},
   "outputs": [
    {
     "name": "stdout",
     "output_type": "stream",
     "text": [
      "SLogP\n"
     ]
    },
    {
     "name": "stderr",
     "output_type": "stream",
     "text": [
      "C:\\Users\\serra\\AppData\\Local\\Temp\\ipykernel_15148\\1413788054.py:2: FutureWarning: Series.__getitem__ treating keys as positions is deprecated. In a future version, integer keys will always be treated as labels (consistent with DataFrame behavior). To access a value by position, use `ser.iloc[pos]`\n",
      "  all_data_corr[\"compound_toxicity\"][np.argsort(np.abs(all_data_corr[\"compound_toxicity\"].to_numpy()))][-2]\n"
     ]
    },
    {
     "data": {
      "text/plain": [
       "0.7677753489317525"
      ]
     },
     "execution_count": 85,
     "metadata": {},
     "output_type": "execute_result"
    }
   ],
   "source": [
    "print(all_data_corr.index[np.argsort(np.abs(all_data_corr[\"compound_toxicity\"].to_numpy()))][-2])\n",
    "all_data_corr[\"compound_toxicity\"][np.argsort(np.abs(all_data_corr[\"compound_toxicity\"].to_numpy()))][-2]"
   ]
  },
  {
   "cell_type": "markdown",
   "metadata": {},
   "source": [
    "Histogram of $log(\\frac{1}{LC_{50}})$\\\n",
    "$LC_{50}$ -> the lower the more toxic, $\\frac{1}{LC_{50}}$ -> the higher the more toxic"
   ]
  },
  {
   "cell_type": "code",
   "execution_count": 86,
   "metadata": {},
   "outputs": [
    {
     "data": {
      "text/plain": [
       "Text(0.5, 1.0, 'Test dataset compound toxicity')"
      ]
     },
     "execution_count": 86,
     "metadata": {},
     "output_type": "execute_result"
    },
    {
     "data": {
      "image/png": "[encoded data removed]",
      "text/plain": [
       "<Figure size 640x480 with 3 Axes>"
      ]
     },
     "metadata": {},
     "output_type": "display_data"
    }
   ],
   "source": [
    "fig, axs = plt.subplots(3, 1, layout='constrained')#, sharex=True)\n",
    "axs[0].hist(all_data[\"compound_toxicity\"], bins = 40)\n",
    "axs[1].hist(y_train, bins = 40)\n",
    "axs[2].hist(y_test, bins = 40)\n",
    "axs[0].set_title(\"Whole dataset compound toxicity\")\n",
    "axs[1].set_title(\"Train dataset compound toxicity\")\n",
    "axs[2].set_title(\"Test dataset compound toxicity\")"
   ]
  },
  {
   "cell_type": "markdown",
   "metadata": {},
   "source": [
    "Few super toxic compounds"
   ]
  },
  {
   "cell_type": "markdown",
   "metadata": {},
   "source": [
    "#### Linear predictors"
   ]
  },
  {
   "cell_type": "markdown",
   "metadata": {},
   "source": [
    "Starting with simple linear models with a shitty result (R^2)"
   ]
  },
  {
   "cell_type": "code",
   "execution_count": 87,
   "metadata": {},
   "outputs": [
    {
     "data": {
      "text/plain": [
       "-2301517.5229385532"
      ]
     },
     "execution_count": 87,
     "metadata": {},
     "output_type": "execute_result"
    }
   ],
   "source": [
    "sdg_regressor = SGDRegressor(max_iter=1000, tol=1e-20)\n",
    "sdg_regressor.fit(scaled_x_train, y_train)\n",
    "sdg_regressor.score(scaled_x_train, y_train)"
   ]
  },
  {
   "cell_type": "markdown",
   "metadata": {},
   "source": [
    "GLMs"
   ]
  },
  {
   "cell_type": "code",
   "execution_count": 88,
   "metadata": {},
   "outputs": [
    {
     "name": "stdout",
     "output_type": "stream",
     "text": [
      "0.7603014887029105\n",
      "0.7708482072361175\n",
      "0.6351088194457397\n"
     ]
    }
   ],
   "source": [
    "clf1 = linear_model.PoissonRegressor(max_iter=10000)\n",
    "clf1.fit(scaled_x_train, y_train)\n",
    "print(clf1.score(scaled_x_train, y_train))\n",
    "\n",
    "clf2 = linear_model.TweedieRegressor()\n",
    "clf2.fit(scaled_x_train, y_train)\n",
    "print(clf2.score(scaled_x_train, y_train))\n",
    "\n",
    "clf3 = linear_model.GammaRegressor()\n",
    "clf3.fit(scaled_x_train, y_train)\n",
    "print(clf3.score(scaled_x_train, y_train))"
   ]
  },
  {
   "cell_type": "code",
   "execution_count": 89,
   "metadata": {},
   "outputs": [
    {
     "name": "stdout",
     "output_type": "stream",
     "text": [
      "0.8047789912970826\n"
     ]
    },
    {
     "data": {
      "text/plain": [
       "0.2988186741687758"
      ]
     },
     "execution_count": 89,
     "metadata": {},
     "output_type": "execute_result"
    }
   ],
   "source": [
    "clf1_pred = clf1.predict(scaled_x_train)\n",
    "print(r2_score(y_train, clf1_pred))\n",
    "mean_squared_error(y_train, clf1_pred)"
   ]
  },
  {
   "cell_type": "code",
   "execution_count": 91,
   "metadata": {},
   "outputs": [
    {
     "data": {
      "text/plain": [
       "[0.7603014887029105,\n",
       " 0.25810271374620575,\n",
       " {'fit_time': array([0.01603007, 0.0170002 , 0.01599956, 0.01699972]),\n",
       "  'score_time': array([0.       , 0.       , 0.0009985, 0.       ]),\n",
       "  'test_score': array([0.51895041, 0.47113624, 0.77282594, 0.71225238])}]"
      ]
     },
     "execution_count": 91,
     "metadata": {},
     "output_type": "execute_result"
    }
   ],
   "source": [
    "model_scorer(clf1, scaled_x_train, y_train, cv=4)"
   ]
  },
  {
   "cell_type": "markdown",
   "metadata": {},
   "source": [
    "Forward feature selection with 3 x CV"
   ]
  },
  {
   "cell_type": "code",
   "execution_count": 138,
   "metadata": {},
   "outputs": [
    {
     "data": {
      "text/plain": [
       "0.6028608359690674"
      ]
     },
     "execution_count": 138,
     "metadata": {},
     "output_type": "execute_result"
    }
   ],
   "source": [
    "sfs = SequentialFeatureSelector(clf1, n_features_to_select=20, direction=\"forward\", cv = 3, n_jobs=-1,\n",
    "                                scoring=\"r2\")\n",
    "sfs.fit(scaled_x_train, y_train)\n",
    "clf1.fit(scaled_x_train[:,sfs.get_support()], y_train)\n",
    "clf1.score(scaled_x_train[:,sfs.get_support()], y_train)"
   ]
  },
  {
   "cell_type": "code",
   "execution_count": 49,
   "metadata": {},
   "outputs": [
    {
     "data": {
      "text/plain": [
       "array(['x150', 'x151', 'x163', 'x220', 'x255', 'x259', 'x277', 'x313',\n",
       "       'x326', 'x355', 'x359', 'x434', 'x484', 'x522', 'x587', 'x631',\n",
       "       'x674', 'x676', 'x691', 'x731'], dtype=object)"
      ]
     },
     "execution_count": 49,
     "metadata": {},
     "output_type": "execute_result"
    }
   ],
   "source": [
    "sfs.get_feature_names_out()"
   ]
  },
  {
   "cell_type": "code",
   "execution_count": 263,
   "metadata": {},
   "outputs": [
    {
     "data": {
      "text/plain": [
       "[0.7603014887029105,\n",
       " 0.1805352501700932,\n",
       " {'fit_time': array([0.01600099, 0.01900125, 0.01899862]),\n",
       "  'score_time': array([0.        , 0.00099993, 0.        ]),\n",
       "  'test_score': array([0.52313424, 0.650864  , 0.72451179])}]"
      ]
     },
     "execution_count": 263,
     "metadata": {},
     "output_type": "execute_result"
    }
   ],
   "source": [
    "model_scorer(clf1, scaled_x_train, y_train, cv=3)"
   ]
  },
  {
   "cell_type": "code",
   "execution_count": 264,
   "metadata": {},
   "outputs": [
    {
     "data": {
      "text/plain": [
       "0.4739750355457337"
      ]
     },
     "execution_count": 264,
     "metadata": {},
     "output_type": "execute_result"
    }
   ],
   "source": [
    "clf1_pred = clf1.predict(scaled_x_test)\n",
    "r2_score(clf1_pred, y_test)"
   ]
  },
  {
   "cell_type": "markdown",
   "metadata": {},
   "source": [
    "MultiTaskElasticNetCV"
   ]
  },
  {
   "cell_type": "code",
   "execution_count": 140,
   "metadata": {},
   "outputs": [
    {
     "name": "stdout",
     "output_type": "stream",
     "text": [
      "0.7159210240552529\n"
     ]
    }
   ],
   "source": [
    "clf = linear_model.ElasticNetCV(cv=3, max_iter=10000)\n",
    "clf.fit(scaled_x_train, y_train)\n",
    "print(clf.score(scaled_x_train, y_train))"
   ]
  },
  {
   "cell_type": "markdown",
   "metadata": {},
   "source": [
    "#### Continuing with Support Vector Regression"
   ]
  },
  {
   "cell_type": "code",
   "execution_count": 97,
   "metadata": {},
   "outputs": [
    {
     "data": {
      "text/plain": [
       "0.6293886261845583"
      ]
     },
     "execution_count": 97,
     "metadata": {},
     "output_type": "execute_result"
    }
   ],
   "source": [
    "svr = GridSearchCV(\n",
    "    SVR(gamma=0.1),\n",
    "    param_grid={\"C\": [1e0, 1e1, 1e2, 1e4, 1e5, 1e50], \"gamma\": np.logspace(-2, 1, 2, 4), \"kernel\":[\"poly\", \"rbf\"]},\n",
    ")\n",
    "svr.fit(scaled_x_train, y_train)\n",
    "svr.best_score_"
   ]
  },
  {
   "cell_type": "markdown",
   "metadata": {},
   "source": [
    "### Trying out NN"
   ]
  },
  {
   "cell_type": "markdown",
   "metadata": {},
   "source": [
    "Training function"
   ]
  },
  {
   "cell_type": "code",
   "execution_count": 70,
   "metadata": {},
   "outputs": [],
   "source": [
    "def train_nn_model(nn_model, train_data_features, train_data_res, test_data_features, test_data_res,\n",
    "                   n_epochs = 20, batch_size = 5, lr = 0.0001):\n",
    "\n",
    "    batch_start = torch.arange(0, len(X_train), batch_size)\n",
    "    X_train_torch = torch.tensor(train_data_features, dtype=torch.float32)\n",
    "    print(X_train_torch.device)\n",
    "    y_train_torch = torch.tensor(train_data_res.to_list(), dtype=torch.float32).reshape(-1, 1)\n",
    "    print(y_train_torch.device)\n",
    "    X_test_torch = torch.tensor(test_data_features, dtype=torch.float32)\n",
    "    print(X_test_torch.device)\n",
    "    y_test_torch = torch.tensor(test_data_res.to_list(), dtype=torch.float32).reshape(-1, 1)\n",
    "    print(y_test_torch.device)\n",
    "    loss_fn = nn.MSELoss()\n",
    "    optimizer = optim.Adam(nn_model.parameters(), lr = lr)\n",
    "    \n",
    "    train_history = []\n",
    "    test_history = []\n",
    "    last_epoch = 0\n",
    "    # training loop\n",
    "    best_r2 = -np.inf\n",
    "    for epoch in range(n_epochs):\n",
    "        nn_model.train()\n",
    "        with tqdm.tqdm(batch_start, unit=\"batch\", mininterval=0, disable=True) as bar:\n",
    "            bar.set_description(f\"Epoch {epoch}\")\n",
    "            for start in bar:\n",
    "                # take a batch\n",
    "                X_batch = X_train_torch[start:start+batch_size]\n",
    "                y_batch = y_train_torch[start:start+batch_size]\n",
    "                # forward pass\n",
    "                y_pred = nn_model(X_batch)[0]\n",
    "                loss = loss_fn(y_pred, y_batch)\n",
    "                # backward pass\n",
    "                optimizer.zero_grad()\n",
    "                loss.backward()\n",
    "                # update weights\n",
    "                optimizer.step()\n",
    "                # print progress\n",
    "                bar.set_postfix(mse=float(loss))\n",
    "        # evaluate accuracy at end of each epoch\n",
    "        if epoch - last_epoch >= 100:\n",
    "            print(f\"Epoch: {epoch}\")\n",
    "            last_epoch = epoch\n",
    "        nn_model.eval()\n",
    "        y_pred_test = nn_model(X_test_torch)[0].reshape((-1))\n",
    "        r2_test = r2_score(y_pred_test.cpu().detach().numpy(), y_test_torch.cpu().detach().numpy())\n",
    "        r2_test = float(r2_test)\n",
    "        test_history.append(r2_test)\n",
    "\n",
    "\n",
    "        y_pred_train = nn_model(X_train_torch)[0].reshape((-1))\n",
    "        r2_train = r2_score(y_pred_train.cpu().detach().numpy(), y_train_torch.cpu().detach().numpy())\n",
    "        r2_train = float(r2_train)\n",
    "        train_history.append(r2_train)\n",
    "        if r2_test > best_r2:\n",
    "            best_r2 = r2_test\n",
    "            best_weights = copy.deepcopy(nn_model.state_dict())\n",
    "    \n",
    "    # restore nn_model and return best accuracy\n",
    "    nn_model.load_state_dict(best_weights)\n",
    "    return [train_history, test_history]"
   ]
  },
  {
   "cell_type": "code",
   "execution_count": 55,
   "metadata": {},
   "outputs": [],
   "source": [
    "class Model(nn.Module):\n",
    "    def __init__(self, input_size, output_size, hidden_dim, n_layers):\n",
    "        super(Model, self).__init__()\n",
    "\n",
    "        self.hidden_dim = hidden_dim\n",
    "        self.n_layers = n_layers\n",
    "\n",
    "        self.fc1 = nn.Linear(input_size, int(input_size/2))\n",
    "        self.fc2 = nn.Linear(int(input_size/2), int(input_size/4))\n",
    "        self.act = nn.LeakyReLU()\n",
    "        self.rnn = nn.RNN(int(input_size/4), hidden_dim, n_layers, batch_first=False)\n",
    "        self.fc = nn.Linear(hidden_dim, output_size)\n",
    "    \n",
    "    def forward(self, x):\n",
    "        batch_size = x.size(0)\n",
    "        hidden = self.init_hidden(batch_size)\n",
    "        x = self.fc1(x)\n",
    "        x = self.act(x)\n",
    "        x = self.fc2(x)\n",
    "        out, hidden = self.rnn(x, hidden)\n",
    "        out = self.fc(out)\n",
    "        \n",
    "        return out, hidden\n",
    "    \n",
    "    def init_hidden(self, batch_size):\n",
    "        hidden = torch.zeros(self.n_layers, self.hidden_dim)\n",
    "        return hidden"
   ]
  },
  {
   "cell_type": "code",
   "execution_count": null,
   "metadata": {},
   "outputs": [],
   "source": [
    "class conv_rnn_Model(nn.Module):\n",
    "    def __init__(self, input_size, output_size, hidden_dim, n_layers):\n",
    "        super(Model, self).__init__()\n",
    "\n",
    "        self.hidden_dim = hidden_dim\n",
    "        self.n_layers = n_layers\n",
    "\n",
    "        self.fc1 = nn.Linear(input_size, int(input_size/2))\n",
    "        # self.fc2 = nn.Linear(int(input_size/2), int(input_size/4))\n",
    "        self.act = nn.LeakyReLU()\n",
    "        self.rnn = nn.RNN(int(input_size/4), hidden_dim, n_layers, batch_first=False)\n",
    "        self.conv = nn.Conv1d(in_channels=int(input_size/2), )\n",
    "        self.fc = nn.Linear(hidden_dim, output_size)\n",
    "    \n",
    "    def forward(self, x):\n",
    "        batch_size = x.size(0)\n",
    "        hidden = self.init_hidden(batch_size)\n",
    "        x = self.fc1(x)\n",
    "        x = self.act(x)\n",
    "        x = self.fc2(x)\n",
    "        out, hidden = self.rnn(x, hidden)\n",
    "        out = self.fc(out)\n",
    "        \n",
    "        return out, hidden\n",
    "    \n",
    "    def init_hidden(self, batch_size):\n",
    "        hidden = torch.zeros(self.n_layers, self.hidden_dim)\n",
    "        return hidden"
   ]
  },
  {
   "cell_type": "code",
   "execution_count": 56,
   "metadata": {},
   "outputs": [],
   "source": [
    "no_features = len(my_features)-1"
   ]
  },
  {
   "cell_type": "code",
   "execution_count": 57,
   "metadata": {},
   "outputs": [],
   "source": [
    "# Define the model\n",
    "seq_model = nn.Sequential(\n",
    "    nn.Linear(no_features, int(no_features/2)),\n",
    "    nn.LeakyReLU(),\n",
    "    nn.Linear(int(no_features/2), int(no_features/4)),\n",
    "    nn.LeakyReLU(),\n",
    "    nn.Linear(int(no_features/4), int(no_features/8)),\n",
    "    nn.LeakyReLU(),\n",
    "    nn.Linear(int(no_features/8), 1)\n",
    ")\n",
    "rnn_model = Model(no_features, 1, hidden_dim=80, n_layers=2)"
   ]
  },
  {
   "cell_type": "code",
   "execution_count": 19,
   "metadata": {},
   "outputs": [
    {
     "name": "stdout",
     "output_type": "stream",
     "text": [
      "cuda:0\n",
      "cuda:0\n",
      "cuda:0\n",
      "cuda:0\n",
      "Epoch: 100\n"
     ]
    }
   ],
   "source": [
    "seq_train_history, seq_test_history = train_nn_model(seq_model, scaled_x_train, y_train, scaled_x_test, y_test, n_epochs = 200, batch_size=1)"
   ]
  },
  {
   "cell_type": "code",
   "execution_count": 92,
   "metadata": {},
   "outputs": [
    {
     "name": "stdout",
     "output_type": "stream",
     "text": [
      "cuda:0\n",
      "cuda:0\n",
      "cuda:0\n",
      "cuda:0\n"
     ]
    }
   ],
   "source": [
    "rnn_train_history, rnn_test_history = train_nn_model(rnn_model, scaled_x_train, y_train, scaled_x_test, y_test, n_epochs = 100, batch_size=1)"
   ]
  },
  {
   "cell_type": "code",
   "execution_count": 20,
   "metadata": {},
   "outputs": [
    {
     "name": "stdout",
     "output_type": "stream",
     "text": [
      "Seq best test: 0.3406274592752666\n",
      "Seq best train: 0.9638771855614358\n"
     ]
    }
   ],
   "source": [
    "print(f\"Seq best test: {max(seq_test_history)}\")\n",
    "print(f\"Seq best train: {max(seq_train_history)}\")"
   ]
  },
  {
   "cell_type": "code",
   "execution_count": 93,
   "metadata": {},
   "outputs": [
    {
     "name": "stdout",
     "output_type": "stream",
     "text": [
      "RNN best test: 0.6410764772559479\n",
      "RNN best train: 0.9544432087445551\n"
     ]
    }
   ],
   "source": [
    "print(f\"RNN best test: {max(rnn_test_history)}\")\n",
    "print(f\"RNN best train: {max(rnn_train_history)}\")"
   ]
  },
  {
   "cell_type": "code",
   "execution_count": 94,
   "metadata": {},
   "outputs": [
    {
     "data": {
      "text/plain": [
       "Text(0.5, 1.0, 'RNN Mode test R2')"
      ]
     },
     "execution_count": 94,
     "metadata": {},
     "output_type": "execute_result"
    },
    {
     "data": {
      "image/png": "[encoded data removed]",
      "text/plain": [
       "<Figure size 640x480 with 4 Axes>"
      ]
     },
     "metadata": {},
     "output_type": "display_data"
    }
   ],
   "source": [
    "fig, axs = plt.subplots(2, 2, layout='constrained', sharex=True)\n",
    "axs[0,0].plot(seq_train_history)\n",
    "axs[0,0].set_title(\"Seq Mode train R2\")\n",
    "axs[0,1].plot(seq_test_history)\n",
    "axs[0,1].set_title(\"Seq Mode test R2\")  \n",
    "axs[1,0].plot(rnn_train_history)\n",
    "axs[1,0].set_title(\"RNN Mode train R2\")\n",
    "axs[1,1].plot(rnn_test_history)\n",
    "axs[1,1].set_title(\"RNN Mode test R2\")"
   ]
  },
  {
   "cell_type": "markdown",
   "metadata": {},
   "source": [
    "#### Gradient Boosting"
   ]
  },
  {
   "cell_type": "code",
   "execution_count": 47,
   "metadata": {},
   "outputs": [],
   "source": [
    "params = {\n",
    "    \"n_estimators\": [10, 100, 1000, 2000],\n",
    "    \"max_depth\": [8,12, 20, None],\n",
    "    \"min_samples_split\": [2,5],\n",
    "    \"learning_rate\": [0.01, 0.001, 0.1],\n",
    "    \"loss\": [\"squared_error\"],\n",
    "}\n",
    "reg = GradientBoostingRegressor(learning_rate=0.1, min_samples_split=500,min_samples_leaf=50,max_depth=8)\n",
    "#reg.fit(scaled_x_train, y_train)"
   ]
  },
  {
   "cell_type": "code",
   "execution_count": 48,
   "metadata": {},
   "outputs": [],
   "source": [
    "CV_gbc = GridSearchCV(estimator=reg, param_grid=params, n_jobs=-1, cv= 2)"
   ]
  },
  {
   "cell_type": "code",
   "execution_count": 49,
   "metadata": {},
   "outputs": [
    {
     "data": {
      "text/plain": [
       "({'learning_rate': 0.01,\n",
       "  'loss': 'squared_error',\n",
       "  'max_depth': 8,\n",
       "  'min_samples_split': 5,\n",
       "  'n_estimators': 2000},\n",
       " 0.5206883701031071)"
      ]
     },
     "execution_count": 49,
     "metadata": {},
     "output_type": "execute_result"
    }
   ],
   "source": [
    "CV_gbc.fit(scaled_x_train, y_train)\n",
    "CV_gbc.best_params_, CV_gbc.best_score_"
   ]
  },
  {
   "cell_type": "code",
   "execution_count": 39,
   "metadata": {},
   "outputs": [
    {
     "data": {
      "text/html": [
       "<style>#sk-container-id-1 {color: black;}#sk-container-id-1 pre{padding: 0;}#sk-container-id-1 div.sk-toggleable {background-color: white;}#sk-container-id-1 label.sk-toggleable__label {cursor: pointer;display: block;width: 100%;margin-bottom: 0;padding: 0.3em;box-sizing: border-box;text-align: center;}#sk-container-id-1 label.sk-toggleable__label-arrow:before {content: \"▸\";float: left;margin-right: 0.25em;color: #696969;}#sk-container-id-1 label.sk-toggleable__label-arrow:hover:before {color: black;}#sk-container-id-1 div.sk-estimator:hover label.sk-toggleable__label-arrow:before {color: black;}#sk-container-id-1 div.sk-toggleable__content {max-height: 0;max-width: 0;overflow: hidden;text-align: left;background-color: #f0f8ff;}#sk-container-id-1 div.sk-toggleable__content pre {margin: 0.2em;color: black;border-radius: 0.25em;background-color: #f0f8ff;}#sk-container-id-1 input.sk-toggleable__control:checked~div.sk-toggleable__content {max-height: 200px;max-width: 100%;overflow: auto;}#sk-container-id-1 input.sk-toggleable__control:checked~label.sk-toggleable__label-arrow:before {content: \"▾\";}#sk-container-id-1 div.sk-estimator input.sk-toggleable__control:checked~label.sk-toggleable__label {background-color: #d4ebff;}#sk-container-id-1 div.sk-label input.sk-toggleable__control:checked~label.sk-toggleable__label {background-color: #d4ebff;}#sk-container-id-1 input.sk-hidden--visually {border: 0;clip: rect(1px 1px 1px 1px);clip: rect(1px, 1px, 1px, 1px);height: 1px;margin: -1px;overflow: hidden;padding: 0;position: absolute;width: 1px;}#sk-container-id-1 div.sk-estimator {font-family: monospace;background-color: #f0f8ff;border: 1px dotted black;border-radius: 0.25em;box-sizing: border-box;margin-bottom: 0.5em;}#sk-container-id-1 div.sk-estimator:hover {background-color: #d4ebff;}#sk-container-id-1 div.sk-parallel-item::after {content: \"\";width: 100%;border-bottom: 1px solid gray;flex-grow: 1;}#sk-container-id-1 div.sk-label:hover label.sk-toggleable__label {background-color: #d4ebff;}#sk-container-id-1 div.sk-serial::before {content: \"\";position: absolute;border-left: 1px solid gray;box-sizing: border-box;top: 0;bottom: 0;left: 50%;z-index: 0;}#sk-container-id-1 div.sk-serial {display: flex;flex-direction: column;align-items: center;background-color: white;padding-right: 0.2em;padding-left: 0.2em;position: relative;}#sk-container-id-1 div.sk-item {position: relative;z-index: 1;}#sk-container-id-1 div.sk-parallel {display: flex;align-items: stretch;justify-content: center;background-color: white;position: relative;}#sk-container-id-1 div.sk-item::before, #sk-container-id-1 div.sk-parallel-item::before {content: \"\";position: absolute;border-left: 1px solid gray;box-sizing: border-box;top: 0;bottom: 0;left: 50%;z-index: -1;}#sk-container-id-1 div.sk-parallel-item {display: flex;flex-direction: column;z-index: 1;position: relative;background-color: white;}#sk-container-id-1 div.sk-parallel-item:first-child::after {align-self: flex-end;width: 50%;}#sk-container-id-1 div.sk-parallel-item:last-child::after {align-self: flex-start;width: 50%;}#sk-container-id-1 div.sk-parallel-item:only-child::after {width: 0;}#sk-container-id-1 div.sk-dashed-wrapped {border: 1px dashed gray;margin: 0 0.4em 0.5em 0.4em;box-sizing: border-box;padding-bottom: 0.4em;background-color: white;}#sk-container-id-1 div.sk-label label {font-family: monospace;font-weight: bold;display: inline-block;line-height: 1.2em;}#sk-container-id-1 div.sk-label-container {text-align: center;}#sk-container-id-1 div.sk-container {/* jupyter's `normalize.less` sets `[hidden] { display: none; }` but bootstrap.min.css set `[hidden] { display: none !important; }` so we also need the `!important` here to be able to override the default hidden behavior on the sphinx rendered scikit-learn.org. See: https://github.com/scikit-learn/scikit-learn/issues/21755 */display: inline-block !important;position: relative;}#sk-container-id-1 div.sk-text-repr-fallback {display: none;}</style><div id=\"sk-container-id-1\" class=\"sk-top-container\"><div class=\"sk-text-repr-fallback\"><pre>GradientBoostingRegressor(learning_rate=0.01, max_depth=12, n_estimators=1000)</pre><b>In a Jupyter environment, please rerun this cell to show the HTML representation or trust the notebook. <br />On GitHub, the HTML representation is unable to render, please try loading this page with nbviewer.org.</b></div><div class=\"sk-container\" hidden><div class=\"sk-item\"><div class=\"sk-estimator sk-toggleable\"><input class=\"sk-toggleable__control sk-hidden--visually\" id=\"sk-estimator-id-1\" type=\"checkbox\" checked><label for=\"sk-estimator-id-1\" class=\"sk-toggleable__label sk-toggleable__label-arrow\">GradientBoostingRegressor</label><div class=\"sk-toggleable__content\"><pre>GradientBoostingRegressor(learning_rate=0.01, max_depth=12, n_estimators=1000)</pre></div></div></div></div></div>"
      ],
      "text/plain": [
       "GradientBoostingRegressor(learning_rate=0.01, max_depth=12, n_estimators=1000)"
      ]
     },
     "execution_count": 39,
     "metadata": {},
     "output_type": "execute_result"
    }
   ],
   "source": [
    "reg = GradientBoostingRegressor(learning_rate=0.01, max_depth=12, min_samples_split=2, n_estimators=1000)\n",
    "reg.fit(scaled_x_train, y_train)"
   ]
  },
  {
   "cell_type": "code",
   "execution_count": 40,
   "metadata": {},
   "outputs": [
    {
     "data": {
      "text/plain": [
       "0.9999999981342598"
      ]
     },
     "execution_count": 40,
     "metadata": {},
     "output_type": "execute_result"
    }
   ],
   "source": [
    "reg.score(scaled_x_train, y_train)"
   ]
  },
  {
   "cell_type": "code",
   "execution_count": 41,
   "metadata": {},
   "outputs": [
    {
     "data": {
      "text/plain": [
       "0.45319957502284924"
      ]
     },
     "execution_count": 41,
     "metadata": {},
     "output_type": "execute_result"
    }
   ],
   "source": [
    "reg.score(scaled_x_test, y_test)"
   ]
  },
  {
   "cell_type": "markdown",
   "metadata": {},
   "source": [
    "### GP"
   ]
  },
  {
   "cell_type": "code",
   "execution_count": 30,
   "metadata": {},
   "outputs": [],
   "source": [
    "kernel = kernels.RBF(1.0, length_scale_bounds=(1e-3, 1e5))*1.0\n",
    "gp_rbf = GaussianProcessRegressor(kernel=kernel, random_state=1).fit(scaled_x_train, y_train)"
   ]
  },
  {
   "cell_type": "code",
   "execution_count": 31,
   "metadata": {},
   "outputs": [
    {
     "data": {
      "text/plain": [
       "1.0"
      ]
     },
     "execution_count": 31,
     "metadata": {},
     "output_type": "execute_result"
    }
   ],
   "source": [
    "gp_rbf.score(scaled_x_train, y_train)"
   ]
  },
  {
   "cell_type": "code",
   "execution_count": null,
   "metadata": {},
   "outputs": [],
   "source": []
  }
 ],
 "metadata": {
  "kernelspec": {
   "display_name": "data_analysis",
   "language": "python",
   "name": "python3"
  },
  "language_info": {
   "codemirror_mode": {
    "name": "ipython",
    "version": 3
   },
   "file_extension": ".py",
   "mimetype": "text/x-python",
   "name": "python",
   "nbconvert_exporter": "python",
   "pygments_lexer": "ipython3",
   "version": "3.11.6"
  }
 },
 "nbformat": 4,
 "nbformat_minor": 2
}
